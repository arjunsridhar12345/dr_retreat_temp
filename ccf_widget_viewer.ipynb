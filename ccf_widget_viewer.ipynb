{
 "cells": [
  {
   "cell_type": "code",
   "execution_count": 44,
   "metadata": {},
   "outputs": [],
   "source": [
    "import npc_lims\n",
    "from ccfwidget import CCFWidget\n",
    "import dataframes\n",
    "import ipywidgets as widgets\n",
    "import numpy as np"
   ]
  },
  {
   "cell_type": "code",
   "execution_count": 104,
   "metadata": {},
   "outputs": [],
   "source": [
    "electrodes = dataframes.get_dfs()['electrodes']\n",
    "electrodes_dr = electrodes[electrodes['is_dynamic_routing'] == True]\n",
    "electrodes_templeton = electrodes[electrodes['is_templeton'] == True]\n",
    "IS_DYNAMIC_ROUTING = True"
   ]
  },
  {
   "cell_type": "code",
   "execution_count": 108,
   "metadata": {},
   "outputs": [],
   "source": [
    "electrodes_dr = electrodes_dr.dropna()\n",
    "electrodes_templeton = electrodes_templeton.dropna()\n",
    "\n",
    "if IS_DYNAMIC_ROUTING:\n",
    "    electrodes_structures = electrodes_dr[~(electrodes_dr['structure'].str.contains('out of brain')) & ~(electrodes_dr['structure'].str.contains('root'))]\n",
    "else:\n",
    "    electrodes_structures = electrodes_templeton[~(electrodes_dr['structure'].str.islower())]"
   ]
  },
  {
   "cell_type": "code",
   "execution_count": 109,
   "metadata": {},
   "outputs": [],
   "source": [
    "electrodes_structures_dict = {}"
   ]
  },
  {
   "cell_type": "code",
   "execution_count": 110,
   "metadata": {},
   "outputs": [],
   "source": [
    "for session in electrodes_structures['session_id'].unique():\n",
    "    electrodes_dr_session = electrodes_structures[electrodes_structures['session_id'] == session]\n",
    "\n",
    "    for group in electrodes_dr_session['group_name'].unique():\n",
    "        electrodes_dr_session_group = electrodes_dr_session[electrodes_dr_session['group_name'] == group]\n",
    "        xyz_coords = electrodes_dr_session_group[['x', 'y', 'z']].to_numpy()\n",
    "\n",
    "        for area in electrodes_dr_session_group['structure'].unique():\n",
    "            if area in electrodes_structures_dict:\n",
    "                electrodes_structures_dict[area].append(xyz_coords)\n",
    "            else:\n",
    "                electrodes_structures_dict[area] = [xyz_coords]"
   ]
  },
  {
   "cell_type": "code",
   "execution_count": 111,
   "metadata": {},
   "outputs": [
    {
     "data": {
      "text/plain": [
       "[array([[9150., 6950., 6675.],\n",
       "        [9150., 6950., 6675.],\n",
       "        [9150., 6950., 6675.],\n",
       "        ...,\n",
       "        [9050., 3625., 3900.],\n",
       "        [9025., 3600., 3900.],\n",
       "        [9025., 3600., 3900.]])]"
      ]
     },
     "execution_count": 111,
     "metadata": {},
     "output_type": "execute_result"
    }
   ],
   "source": [
    "electrodes_structures_dict['PG']"
   ]
  },
  {
   "cell_type": "code",
   "execution_count": 112,
   "metadata": {},
   "outputs": [
    {
     "data": {
      "application/vnd.jupyter.widget-view+json": {
       "model_id": "b0d1133852604f359ce2bdcdde9830f7",
       "version_major": 2,
       "version_minor": 0
      },
      "text/plain": [
       "Dropdown(description='CCF Area:', options=('ACAd', 'ACAv', 'ACB', 'AD', 'AId', 'AIv', 'AON', 'APN', 'AQ', 'AUD…"
      ]
     },
     "metadata": {},
     "output_type": "display_data"
    }
   ],
   "source": [
    "area_dropdown = widgets.Dropdown(\n",
    "    options=sorted(list(electrodes_structures_dict.keys())),\n",
    "    value=sorted(list(electrodes_structures_dict.keys()))[0],\n",
    "    description='CCF Area:',\n",
    "    disabled=False,\n",
    ")\n",
    "area_dropdown"
   ]
  },
  {
   "cell_type": "code",
   "execution_count": 114,
   "metadata": {},
   "outputs": [
    {
     "data": {
      "application/vnd.jupyter.widget-view+json": {
       "model_id": "7143c8d75ad24f20ac82ab2e94f73ba3",
       "version_major": 2,
       "version_minor": 0
      },
      "text/plain": [
       "CCFWidget(children=(VBox(children=(Viewer(background=(0.85, 0.85, 0.85), camera=array([[ 1.3441567e+03, -2.172…"
      ]
     },
     "metadata": {},
     "output_type": "display_data"
    }
   ],
   "source": [
    "ccf = CCFWidget(markers=electrodes_structures_dict[area_dropdown.value], selected_acronyms=[area_dropdown.value])\n",
    "ccf"
   ]
  },
  {
   "cell_type": "code",
   "execution_count": null,
   "metadata": {},
   "outputs": [],
   "source": []
  }
 ],
 "metadata": {
  "kernelspec": {
   "display_name": "dr_retreat_jan",
   "language": "python",
   "name": "python3"
  },
  "language_info": {
   "codemirror_mode": {
    "name": "ipython",
    "version": 3
   },
   "file_extension": ".py",
   "mimetype": "text/x-python",
   "name": "python",
   "nbconvert_exporter": "python",
   "pygments_lexer": "ipython3",
   "version": "3.10.13"
  }
 },
 "nbformat": 4,
 "nbformat_minor": 2
}
